{
 "cells": [
  {
   "cell_type": "code",
   "execution_count": null,
   "id": "89357fde",
   "metadata": {},
   "outputs": [],
   "source": [
    "from kaggle_environments import make\n",
    "# Create an environment instance.\n",
    "env = make(\n",
    "  # Specification or name to registered specification.\n",
    "  \"hungry_geese\",\n",
    "  # Enable verbose logging.\n",
    "  debug=True\n",
    ")\n",
    "\n",
    "env.play([None, \"greedy\", \"greedy\", \"greedy\"])"
   ]
  }
 ],
 "metadata": {
  "kernelspec": {
   "display_name": "Python 3 (ipykernel)",
   "language": "python",
   "name": "python3"
  },
  "language_info": {
   "codemirror_mode": {
    "name": "ipython",
    "version": 3
   },
   "file_extension": ".py",
   "mimetype": "text/x-python",
   "name": "python",
   "nbconvert_exporter": "python",
   "pygments_lexer": "ipython3",
   "version": "3.9.5"
  }
 },
 "nbformat": 4,
 "nbformat_minor": 5
}
