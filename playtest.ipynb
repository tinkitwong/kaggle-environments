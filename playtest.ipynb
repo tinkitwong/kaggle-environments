{
 "cells": [
  {
   "cell_type": "code",
   "execution_count": 1,
   "metadata": {},
   "outputs": [
    {
     "name": "stdout",
     "output_type": "stream",
     "text": [
      "Loading environment football failed: No module named 'gfootball'\n"
     ]
    }
   ],
   "source": [
    "from kaggle_environments import make\n",
    "env = make(\"hungry_geese\", debug=False)"
   ]
  },
  {
   "cell_type": "code",
   "execution_count": null,
   "metadata": {},
   "outputs": [],
   "source": [
    "env.play([None, # indicating human player\n",
    "          \"agents/pubhrl.py\",\n",
    "          \"agents/risk_adverse_greedy.py\",\n",
    "          \"agents/greedy.py\"], width=800, height=560)"
   ]
  },
  {
   "cell_type": "code",
   "execution_count": 2,
   "metadata": {},
   "outputs": [
    {
     "name": "stdout",
     "output_type": "stream",
     "text": [
      "alphageese-baseline.py  pubhrl.py               v13.py\r\n",
      "alphageese-imitation.py risk_adverse_greedy.py  v14.py\r\n",
      "boilergoose.py          simple_bfs.py           v17.py\r\n",
      "crazy_goose.py          simple_toward.py        v32.py\r\n",
      "greedy.py               straightforward_bfs.py\r\n"
     ]
    }
   ],
   "source": [
    "# available agents\n",
    "!ls agents/"
   ]
  },
  {
   "cell_type": "code",
   "execution_count": null,
   "metadata": {},
   "outputs": [],
   "source": []
  }
 ],
 "metadata": {
  "kernelspec": {
   "display_name": "Python 3",
   "language": "python",
   "name": "python3"
  },
  "language_info": {
   "codemirror_mode": {
    "name": "ipython",
    "version": 3
   },
   "file_extension": ".py",
   "mimetype": "text/x-python",
   "name": "python",
   "nbconvert_exporter": "python",
   "pygments_lexer": "ipython3",
   "version": "3.8.3"
  }
 },
 "nbformat": 4,
 "nbformat_minor": 5
}
